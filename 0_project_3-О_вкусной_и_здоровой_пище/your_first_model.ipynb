{
 "cells": [
  {
   "cell_type": "markdown",
   "metadata": {},
   "source": [
    "# Загрузка Pandas и очистка данных"
   ]
  },
  {
   "cell_type": "code",
   "execution_count": null,
   "metadata": {},
   "outputs": [],
   "source": [
    "import pandas as pd\n",
    "import ast\n",
    "import geonamescache\n",
    "import requests\n",
    "from bs4 import BeautifulSoup"
   ]
  },
  {
   "cell_type": "code",
   "execution_count": null,
   "metadata": {},
   "outputs": [],
   "source": [
    "df = pd.read_csv('main_task.csv')\n"
   ]
  },
  {
   "cell_type": "code",
   "execution_count": null,
   "metadata": {},
   "outputs": [],
   "source": [
    "# Ваш код по очистке данных и генерации новых признаков\n",
    "# При необходимости добавьте ячейки"
   ]
  },
  {
   "cell_type": "code",
   "execution_count": null,
   "metadata": {},
   "outputs": [],
   "source": [
    "# Исправляем ошибки в названиях городов для последующего извлечение дополнительной информации из внешних источников\n",
    "for item in [{\"Krakow\": \"Kraków\"}, {\"Oporto\": \"Porto\"}, {\"Zurich\": \"Zürich\"}]:\n",
    "    df.City.replace(item, inplace=True)\n",
    "\n",
    "# Заполняем пустые значения колонки 'Number of Reviews' и приводим количество отзывов к целочисленному виду\n",
    "df[\"Number of Reviews\"] = df[\"Number of Reviews\"].fillna(0)\n",
    "df[\"Number of Reviews\"] = df[\"Number of Reviews\"].apply(lambda x: int(x))\n",
    "\n",
    "# Приводим цены к числовому виду\n",
    "\n",
    "transformed_prices = {\"$\": 1, \"$$ - $$$\": 2, \"$$$$\": 3}\n",
    "df['Price Range'] = df['Price Range'].apply(lambda x: transformed_prices[x] if type(x) == str else 0)\n",
    "#______________________________________________________________________________________________________\n",
    "# Колонка 'Cuisine Style':\n",
    "## приводим к листу тех значений, тип которых - строка\n",
    "df['Cuisine Style'] = df['Cuisine Style'].apply(lambda x: ast.literal_eval(x) if type(x) == str else x)\n",
    "\n",
    "## заполняем пропуски\n",
    "df['Cuisine Style'] = df['Cuisine Style'].fillna(1)\n",
    "\n",
    "## Cоздаем колонку с количеством кухонь для каждого ресторана\n",
    "df['Cuisines_amount'] = df['Cuisine Style'].apply(lambda x: len(x) if type(x) == list else x)\n",
    "\n",
    "## Создаем dummy переменные для каждой отдельной кухни и ее наличии или отсутсвии в каждом ресторане\n",
    "all_cuisines = list()\n",
    "df['Cuisine Style'].apply(lambda x: all_cuisines.extend(x) if type(x) == list else x)\n",
    "\n",
    "for cuisine in set(all_cuisines):\n",
    "    df[cuisine] = df['Cuisine Style'].apply(lambda x: 1 if type(x) == list and cuisine in x else 0)\n",
    "\n",
    "#__________________________________________________________________________________________________________\n",
    "\n",
    "# Колонка 'Reviews':\n",
    "\n",
    "## Заменяем пустые значения в колонке\n",
    "df.Reviews = df.Reviews.apply(lambda x: ast.literal_eval(x.replace('nan', '\"average\"')))\n",
    "\n",
    "## Разделяем колонку Reviews на две отдельных колонки: отзывы и даты отзывов\n",
    "df.Reviews, df[\"Reviews_dates\"] = df.Reviews.str\n",
    "\n",
    "## приводим дату отзывов к datetime формату\n",
    "df.Reviews_dates = df.Reviews_dates.apply(lambda x: pd.to_datetime(x))\n",
    "\n",
    "## Находим разницу в днях между датами двух последних отзывов\n",
    "df['feedback_period'] = df.Reviews_dates.apply(lambda x: max(x) - min(x) if len(x) == 2 else 0)\n",
    "\n",
    "## Приводим полученный результат к целочисленному типу\n",
    "df['feedback_period'] = df['feedback_period'].apply(lambda x: x.days if type(x) != int else x)\n",
    "\n",
    "\n",
    "definitions = {\n",
    "    \"3\": [\"excellent\", \"best\", \"wonderful\", \"unique\", \"great\", \"i love\", \"fab food\", \"amazing\", \"gem\", \"eccellente\",\n",
    "          \"fantastic\", \"loving\", \"beautifull\", \"amaze\", \"epic\", \"delicious\", \"perfect\"],\n",
    "    \"2\": [\"good\", \"nice\", \"reasonable\", \"pretty\", \"friendly\", \"cute\", \"attractive\"],\n",
    "    \"1\": [\"average\", \"not exceptional\", \"overwhelmed\"],\n",
    "    \"-1\": [\"disappoint\", \"boring\", \"disgusting\", \"terrible\", \"unfriendly\", \"awful\"]}\n",
    "\n",
    "\n",
    "# Проходим каждый отзыв в ресторане и ищем наличие слова из словаря definitions. Если нашли увеличиваем счетчик на значение ключа из\n",
    "# definitions. Если ни одно слово из отзыва не встречается в definitions , значит в ресторане ничего\n",
    "#  особенного нет, и воспринимается значение как 0\n",
    "\n",
    "def reviews_filter(reviews_list):\n",
    "    counter = 0\n",
    "    if type(reviews_list) == list and reviews_list:\n",
    "        for review in reviews_list:\n",
    "            for key in definitions:\n",
    "                for word in definitions[key]:\n",
    "                    if word in review.lower():\n",
    "                        counter += int(key)\n",
    "\n",
    "    return counter\n",
    "\n",
    "#  Создаем колонку содержащую рейтинг ресторана на основе отзывов\n",
    "df[\"reviews_rate\"] = df.Reviews.apply(reviews_filter)\n",
    "\n",
    "#__________________________________________________________________________________________________________\n",
    "\n",
    "# создаем колонку количества населения городов из колокни City (Нужна дополнительная библиотека geonamescache)\n",
    "\n",
    "## Создаем перечень  всех городов из колонки City\n",
    "all_cities = set(df.City.values)\n",
    "\n",
    "\n",
    "# Получаем информацию о каждом городе по его названию в виде списка.  В случае когда названий городов несколько в списке\n",
    "# например Athens 4 значение 3 из которых находятся в США, то берем значение первого элемента в списке, т.к. первый элемент\n",
    "# является известным городом. Наприме как в пример выше, то это будет столица Греции\n",
    "gc = geonamescache.GeonamesCache()\n",
    "prepared_info = dict()\n",
    "\n",
    "for city in all_cities:\n",
    "    cities = gc.get_cities_by_name(city)\n",
    "    required_city = cities[0]\n",
    "    city_key = list(required_city.keys())[0]\n",
    "    prepared_info[city] = required_city[city_key][\"population\"]\n",
    "\n",
    "# создаем колонку city_population c населением городов\n",
    "df['city_population'] = df.City.apply(lambda x: prepared_info[x])\n",
    "\n",
    "# создаем  dummy переменную городов и помечем в ней присутствие или отсутсвие каждого ресторана\n",
    "df = pd.get_dummies(df, columns=['City'])\n",
    "\n",
    "#__________________________________________________________________________________________________________\n",
    "\n",
    "# Находим количество туристов на википедии для каждого города и создаем колонку  с их количеством\n",
    "#  данные проверяем за 2018-й год, если города в списке нет - штош, значит город неочень популярен для туристов и\n",
    "#  значение туристов в нем будет 0\n",
    "resp = requests.get(\"https://en.wikipedia.org/wiki/List_of_cities_by_international_visitors\")\n",
    "soup = BeautifulSoup(resp.content, 'html.parser')\n",
    "\n",
    "# Извлекаем таблицу рейтинга городов и количеству туристов\n",
    "table = soup.find(\"table\", {\"class\": \"wikitable sortable\"})\n",
    "tr = table.find_all(\"tr\")\n",
    "\n",
    "all_tourists = dict()\n",
    "\n",
    "#  Обходим таблицу по названию города\n",
    "for it in tr[1:]:\n",
    "\n",
    "    city = it.find_all(\"td\")[2].text.strip()\n",
    "    if city in all_cities:\n",
    "\n",
    "        # Берем данные из таблицы за 2018-й год\n",
    "        tourists = \"\".join(it.find_all(\"td\")[4].text.split(\",\"))\n",
    "        if len(tourists) == 1:\n",
    "\n",
    "            # Если информации за 2018- год нет, то берем из той же таблицы следующую колонку - данные за 2016-й год\n",
    "            all_tourists[city] = int(\"\".join(it.find_all(\"td\")[5].text.split(\",\")))\n",
    "        else:\n",
    "            all_tourists[city] = int(tourists)\n",
    "\n",
    "# Собственно созлаем колонку с данными которые извлекли выше\n",
    "df['tourists'] = df.City.apply(lambda x: all_tourists[x] if x in all_tourists.keys() else 0)\n",
    "\n",
    "#__________________________________________________________________________________________________________\n",
    "\n",
    "for column in df.columns:\n",
    "    if df[column].dtype == object:\n",
    "        df = df.drop(column, axis=1)\n",
    "    else:\n",
    "        df[column] = df[column].fillna(df[column].mean())"
   ]
  },
  {
   "cell_type": "markdown",
   "source": [
    "# Разбиваем датафрейм на части, необходимые для обучения и тестирования модели"
   ],
   "metadata": {
    "collapsed": false
   }
  },
  {
   "cell_type": "code",
   "execution_count": null,
   "metadata": {},
   "outputs": [],
   "source": [
    "# Х - данные с информацией о ресторанах, у - целевая переменная (рейтинги ресторанов)\n",
    "X = df.drop(['Restaurant_id', 'Rating'], axis = 1)\n",
    "y = df['Rating']"
   ]
  },
  {
   "cell_type": "code",
   "execution_count": null,
   "metadata": {},
   "outputs": [],
   "source": [
    "# Загружаем специальный инструмент для разбивки:\n",
    "from sklearn.model_selection import train_test_split"
   ]
  },
  {
   "cell_type": "code",
   "execution_count": null,
   "metadata": {},
   "outputs": [],
   "source": [
    "# Наборы данных с меткой \"train\" будут использоваться для обучения модели, \"test\" - для тестирования.\n",
    "# Для тестирования мы будем использовать 25% от исходного датасета.\n",
    "X_train, X_test, y_train, y_test = train_test_split(X, y, test_size=0.25)"
   ]
  },
  {
   "cell_type": "markdown",
   "metadata": {},
   "source": [
    "# Создаём, обучаем и тестируем модель"
   ]
  },
  {
   "cell_type": "code",
   "execution_count": null,
   "metadata": {},
   "outputs": [],
   "source": [
    "# Импортируем необходимые библиотеки:\n",
    "from sklearn.ensemble import RandomForestRegressor # инструмент для создания и обучения модели\n",
    "from sklearn import metrics # инструменты для оценки точности модели"
   ]
  },
  {
   "cell_type": "code",
   "execution_count": null,
   "metadata": {},
   "outputs": [],
   "source": [
    "# Создаём модель\n",
    "regr = RandomForestRegressor(n_estimators=100)\n",
    "\n",
    "# Обучаем модель на тестовом наборе данных\n",
    "regr.fit(X_train, y_train)\n",
    "\n",
    "# Используем обученную модель для предсказания рейтинга ресторанов в тестовой выборке.\n",
    "# Предсказанные значения записываем в переменную y_pred\n",
    "y_pred = regr.predict(X_test)"
   ]
  },
  {
   "cell_type": "code",
   "execution_count": null,
   "metadata": {},
   "outputs": [],
   "source": [
    "# Сравниваем предсказанные значения (y_pred) с реальными (y_test), и смотрим насколько они в среднем отличаются\n",
    "# Метрика называется Mean Absolute Error (MAE) и показывает среднее отклонение предсказанных значений от фактических.\n",
    "print('MAE:', metrics.mean_absolute_error(y_test, y_pred))"
   ]
  }
 ],
 "metadata": {
  "kernelspec": {
   "display_name": "Python 3",
   "language": "python",
   "name": "python3"
  },
  "language_info": {
   "codemirror_mode": {
    "name": "ipython",
    "version": 3
   },
   "file_extension": ".py",
   "mimetype": "text/x-python",
   "name": "python",
   "nbconvert_exporter": "python",
   "pygments_lexer": "ipython3",
   "version": "3.7.1"
  }
 },
 "nbformat": 4,
 "nbformat_minor": 2
}
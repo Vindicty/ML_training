{
 "cells": [
  {
   "cell_type": "code",
   "execution_count": null,
   "metadata": {
    "_cell_guid": "b1076dfc-b9ad-4769-8c92-a6c4dae69d19",
    "_uuid": "8f2839f25d086af736a60e9eeb907d3b93b6e0e5",
    "trusted": true,
    "id": "U2D2gTdJVp90",
    "colab_type": "code",
    "colab": {}
   },
   "outputs": [],
   "source": [
    "import pandas as pd\n",
    "movies = pd.read_csv('movie_bd_v5.csv')"
   ]
  },
  {
   "cell_type": "code",
   "execution_count": 0,
   "metadata": {
    "_cell_guid": "79c7e3d0-c299-4dcb-8224-4455121ee9b0",
    "_uuid": "d629ff2d2480ee46fbb7e2d37f6b5fab8052498a",
    "trusted": true,
    "id": "oyGfxL3eVp9-",
    "colab_type": "code",
    "colab": {}
   },
   "outputs": [],
   "source": [
    "#1. У какого фильма из списка самый большой бюджет?\n",
    "print(movies.query('budget == budget.max()'))\n"
   ]
  },
  {
   "cell_type": "code",
   "execution_count": 0,
   "metadata": {
    "trusted": true,
    "id": "CoYUnagMVp-C",
    "colab_type": "code",
    "colab": {}
   },
   "outputs": [],
   "source": [
    "#2. Какой из фильмов самый длительный (в минутах)?\n",
    "print(movies.query('runtime == runtime.max()'))"
   ]
  },
  {
   "cell_type": "code",
   "execution_count": 0,
   "metadata": {
    "trusted": true,
    "id": "jNb40DwKVp-H",
    "colab_type": "code",
    "colab": {}
   },
   "outputs": [],
   "source": [
    "#3. Какой из фильмов самый короткий (в минутах)?\n",
    "print(movies.query('runtime == runtime.min()'))"
   ]
  },
  {
   "cell_type": "code",
   "execution_count": 0,
   "metadata": {
    "trusted": true,
    "id": "uVnXAY5RVp-O",
    "colab_type": "code",
    "colab": {}
   },
   "outputs": [],
   "source": [
    "#4. Какова средняя длительность фильмов?\n",
    "print(movies.runtime.mean())"
   ]
  },
  {
   "cell_type": "code",
   "execution_count": 0,
   "metadata": {
    "trusted": true,
    "id": "dZwb3m28Vp-S",
    "colab_type": "code",
    "colab": {}
   },
   "outputs": [],
   "source": [
    "#5. Каково медианное значение длительности фильмов?\n",
    "print(movies.runtime.median())"
   ]
  },
  {
   "cell_type": "code",
   "execution_count": 0,
   "metadata": {
    "trusted": true,
    "id": "OGaoQI7rVp-X",
    "colab_type": "code",
    "colab": {}
   },
   "outputs": [],
   "source": [
    "movies['profit'] = movies.revenue - movies.budget\n",
    "#6. Какой фильм самый прибыльный?\n",
    "print(movies.query('profit == profit.max()'))"
   ]
  },
  {
   "cell_type": "code",
   "execution_count": 0,
   "metadata": {
    "trusted": true,
    "id": "vHAoEXNTVp-d",
    "colab_type": "code",
    "colab": {}
   },
   "outputs": [],
   "source": [
    "#7. Какой фильм самый убыточный?\n",
    "print(movies.query('profit == profit.min()'))"
   ]
  },
  {
   "cell_type": "code",
   "execution_count": 0,
   "metadata": {
    "trusted": true,
    "id": "ot-VX2XrVp-g",
    "colab_type": "code",
    "colab": {}
   },
   "outputs": [],
   "source": [
    "#8. У скольких фильмов из датасета объем сборов оказался выше бюджета?\n",
    "print(movies.query('profit > 0').imdb_id.nunique())"
   ]
  },
  {
   "cell_type": "code",
   "execution_count": 0,
   "metadata": {
    "trusted": true,
    "id": "YBxaSHuAVp-l",
    "colab_type": "code",
    "colab": {}
   },
   "outputs": [],
   "source": [
    "#9. Какой фильм оказался самым кассовым в 2008 году?\n",
    "print(movies[movies.revenue == movies.query('release_year == 2008').revenue.max()])"
   ]
  },
  {
   "cell_type": "code",
   "execution_count": 0,
   "metadata": {
    "trusted": true,
    "id": "5K6dKZYVVp-q",
    "colab_type": "code",
    "colab": {}
   },
   "outputs": [],
   "source": [
    "#10. Самый убыточный фильм за период с 2012 по 2014 годы (включительно)?\n",
    "print(movies[movies.profit == movies.query('2012 <= release_year <= 2014').profit.min()])"
   ]
  },
  {
   "cell_type": "code",
   "execution_count": 0,
   "metadata": {
    "trusted": true,
    "id": "iBROplKnVp-v",
    "colab_type": "code",
    "colab": {}
   },
   "outputs": [],
   "source": [
    "#11. Какого жанра фильмов больше всего?\n",
    "print(pd.Series(movies['genres'].str.cat(sep='|').split('|')).value_counts(ascending=False))"
   ]
  },
  {
   "cell_type": "code",
   "execution_count": 0,
   "metadata": {
    "trusted": true,
    "id": "UYZh4T9WVp-y",
    "colab_type": "code",
    "colab": {}
   },
   "outputs": [],
   "source": [
    "#12. Фильмы какого жанра чаще всего становятся прибыльными?\n",
    "print(pd.Series(movies.query([movies.profit > 0])['genres'].str.cat(sep='|').split('|')).value_counts(ascending=False))\n"
   ]
  },
  {
   "cell_type": "code",
   "execution_count": 0,
   "metadata": {
    "trusted": true,
    "id": "w-D2m4XPVp-3",
    "colab_type": "code",
    "colab": {}
   },
   "outputs": [],
   "source": [
    "#13. У какого режиссёра самые большие суммарные кассовые сборы?\n",
    "directors = pd.Series(index=set(movies.director.str.cat(sep='|').split('|')))\n",
    "\n",
    "for i in directors.index:\n",
    "    directors[i] = movies[movies['director'].str.contains(i)].revenue.sum()\n",
    "print(directors.sort_values(ascending=False))"
   ]
  },
  {
   "cell_type": "code",
   "execution_count": 0,
   "metadata": {
    "trusted": true,
    "id": "y00_7HD6Vp-7",
    "colab_type": "code",
    "colab": {}
   },
   "outputs": [],
   "source": [
    "#14. Какой режиссер снял больше всего фильмов в стиле Action?\n",
    "directors = pd.Series(index=set(movies.director.str.cat(sep='|').split('|')))\n",
    "\n",
    "for i in directors.index:\n",
    "    directors[i] = movies[(movies['genres'].str.contains('Action')) &(movies.director.str.contains(i))].genres.count()\n",
    "print(directors.sort_values(ascending=False))"
   ]
  },
  {
   "cell_type": "code",
   "execution_count": 0,
   "metadata": {
    "trusted": true,
    "id": "MoUyQr9RVp_B",
    "colab_type": "code",
    "colab": {}
   },
   "outputs": [],
   "source": [
    "#15. Фильмы с каким актером принесли самые высокие кассовые сборы в 2012 году?\n",
    "cast = pd.Series(index=set(movies.cast.str.cat(sep='|').split('|')))\n",
    "\n",
    "for i in cast.index:\n",
    "    cast[i] = movies[(movies['release_year'] == 2012) & (movies.cast.str.contains(i))].revenue.sum()\n",
    "print(cast.sort_values(ascending=False))\n"
   ]
  },
  {
   "cell_type": "code",
   "execution_count": 0,
   "metadata": {
    "trusted": true,
    "id": "XqyRmufJVp_F",
    "colab_type": "code",
    "colab": {}
   },
   "outputs": [],
   "source": [
    "#16. Какой актер снялся в большем количестве высокобюджетных фильмов?\n",
    "cast = pd.Series(index=set(movies.cast.str.cat(sep='|').split('|')))\n",
    "\n",
    "for i in cast.index:\n",
    "    cast[i] = movies[(movies.budget > movies.budget.mean()) &(movies.cast.str.contains(i))].imdb_id.nunique()\n",
    "\n",
    "print(cast.sort_values(ascending=False))"
   ]
  },
  {
   "cell_type": "code",
   "execution_count": 0,
   "metadata": {
    "trusted": true,
    "id": "zsJAwJ8QVp_J",
    "colab_type": "code",
    "colab": {}
   },
   "outputs": [],
   "source": [
    "#17. В фильмах какого жанра больше всего снимался Nicolas Cage?\n",
    "print(pd.Series(movies[movies.cast.str.contains('Nicolas Cage')]['genres'].str.cat(sep='|').split('|')).value_counts(ascending=False))"
   ]
  },
  {
   "cell_type": "code",
   "execution_count": 0,
   "metadata": {
    "trusted": true,
    "id": "otO3SbrSVp_N",
    "colab_type": "code",
    "colab": {}
   },
   "outputs": [],
   "source": [
    "#18. Самый убыточный фильм от Paramount Pictures?\n",
    "print(movies[movies.profit == movies[movies['production_companies'].str.contains('Paramount Pictures')].profit.min()])\n"
   ]
  },
  {
   "cell_type": "code",
   "execution_count": 0,
   "metadata": {
    "trusted": true,
    "id": "Tmt8MaK1Vp_R",
    "colab_type": "code",
    "colab": {}
   },
   "outputs": [],
   "source": [
    "#19. Какой год стал самым успешным по суммарным кассовым сборам?\n",
    "print(movies.groupby('release_year').revenue.sum().sort_values(ascending=False))"
   ]
  },
  {
   "cell_type": "code",
   "execution_count": 0,
   "metadata": {
    "trusted": true,
    "id": "K6Z3J8ygVp_X",
    "colab_type": "code",
    "colab": {}
   },
   "outputs": [],
   "source": [
    "#20. Какой самый прибыльный год для студии Warner Bros?\n",
    "print(movies[movies.production_companies.str.contains('Warner Bros')].groupby('release_year').profit.sum().sort_values(ascending=False))"
   ]
  },
  {
   "cell_type": "code",
   "execution_count": 0,
   "metadata": {
    "trusted": true,
    "id": "wd2M-wHeVp_b",
    "colab_type": "code",
    "colab": {}
   },
   "outputs": [],
   "source": [
    "#21. В каком месяце за все годы суммарно вышло больше всего фильмов?\n",
    "movies.release_date = movies.release_date.apply(lambda x: x.split('/')[0])\n",
    "print(movies.groupby('release_date').imdb_id.nunique().sort_values(ascending=False))"
   ]
  },
  {
   "cell_type": "code",
   "execution_count": 0,
   "metadata": {
    "trusted": true,
    "id": "aga62oeKVp_g",
    "colab_type": "code",
    "colab": {}
   },
   "outputs": [],
   "source": [
    "#22. Сколько суммарно вышло фильмов летом (за июнь, июль, август)?\n",
    "#movies.release_date отформатирована с вопроса 21\n",
    "print(movies.query(\"release_date in ['6', '7', '8']\").imdb_id.nunique())"
   ]
  },
  {
   "cell_type": "code",
   "execution_count": 0,
   "metadata": {
    "trusted": true,
    "id": "qQtmHKTFVp_k",
    "colab_type": "code",
    "colab": {}
   },
   "outputs": [],
   "source": [
    "#23. Для какого режиссера зима — самое продуктивное время года?\n",
    "#movies.release_date отформатирована с вопроса 21\n",
    "directors = pd.Series(index=set(movies.director.str.cat(sep='|').split('|')))\n",
    "\n",
    "for i in directors.index:\n",
    "    directors[i] = movies[(movies['release_date'].isin(['1', '2', '12'])) & (movies.director.str.contains(i))].imdb_id.nunique()\n",
    "\n",
    "print(directors.sort_values(ascending=False))\n"
   ]
  },
  {
   "cell_type": "code",
   "execution_count": 0,
   "metadata": {
    "trusted": true,
    "id": "H74SJDIBVp_n",
    "colab_type": "code",
    "colab": {}
   },
   "outputs": [],
   "source": [
    "#24. Какая студия даёт самые длинные названия своим фильмам по количеству символов?\n",
    "production_companies = pd.Series(index=set(movies.production_companies.str.cat(sep='|').split('|')))\n",
    "\n",
    "for i in production_companies.index:\n",
    "    production_companies[i] = movies[movies['production_companies'].str.contains(i, regex=False)]['original_title'].str.len().mean()\n",
    "\n",
    "print(production_companies.sort_values(ascending=False))"
   ]
  },
  {
   "cell_type": "code",
   "execution_count": 0,
   "metadata": {
    "trusted": true,
    "id": "9E_B0Y96Vp_r",
    "colab_type": "code",
    "colab": {}
   },
   "outputs": [],
   "source": [
    "#25. Описания фильмов какой студии в среднем самые длинные по количеству слов?\n",
    "production_companies = pd.Series(index=set(movies.production_companies.str.cat(sep='|').split('|')))\n",
    "\n",
    "for i in production_companies.index:\n",
    "    production_companies[i] = movies[movies['production_companies'].str.contains(i, regex=False)]['overview'].str.split(\" \").str.len().mean()\n",
    "\n",
    "print(production_companies.sort_values(ascending=False))"
   ]
  },
  {
   "cell_type": "code",
   "execution_count": 0,
   "metadata": {
    "trusted": true,
    "id": "Dnbt4GdIVp_v",
    "colab_type": "code",
    "colab": {}
   },
   "outputs": [],
   "source": [
    "#26. Какие фильмы входят в один процент лучших по рейтингу?\n",
    "print(movies[['original_title', 'vote_average']].sort_values('vote_average', ascending=False)[:round(len(movies)*0.01)])"
   ]
  },
  {
   "cell_type": "code",
   "execution_count": 0,
   "metadata": {
    "trusted": true,
    "id": "wgVu02DEVp_0",
    "colab_type": "code",
    "colab": {}
   },
   "outputs": [],
   "source": [
    "#27. Какие актеры чаще всего снимаются в одном фильме вместе?\n",
    "cast = pd.Series(index = [\"Johnny Depp & Helena Bonham Carter\", \"Ben Stiller & Owen Wilson\", \"Vin Diesel & Paul Walker\",\n",
    "                          \"Adam Sandler & Kevin James\", \"Daniel Radcliffe & Rupert Grint\"])\n",
    "\n",
    "for i in cast.index:\n",
    "    splitted_actors = i.split(\" & \")\n",
    "    cast[i] = movies[(movies.cast.str.contains(splitted_actors[0])) & (movies.cast.str.contains(splitted_actors[1]))].imdb_id.nunique()\n",
    "print(cast.sort_values(ascending=False))"
   ]
  },
  {
   "cell_type": "markdown",
   "metadata": {
    "id": "8Im1S2HRVp_4",
    "colab_type": "text"
   },
   "source": [
    "# 21. В каком месяце за все годы суммарно вышло больше всего фильмов?"
   ]
  }
 ],
 "metadata": {
  "kernelspec": {
   "display_name": "Python 3",
   "language": "python",
   "name": "python3"
  },
  "language_info": {
   "codemirror_mode": {
    "name": "ipython",
    "version": 3
   },
   "file_extension": ".py",
   "mimetype": "text/x-python",
   "name": "python",
   "nbconvert_exporter": "python",
   "pygments_lexer": "ipython3",
   "version": "3.6.6"
  },
  "colab": {
   "name": "Copy of [SF-DST] Movies IMBD v4.1 TEMPLATE.ipynb",
   "provenance": []
  }
 },
 "nbformat": 4,
 "nbformat_minor": 0
}
